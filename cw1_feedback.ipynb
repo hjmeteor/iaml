{
 "cells": [
  {
   "cell_type": "markdown",
   "metadata": {
    "collapsed": true
   },
   "source": [
    "# Introductory applied machine learning (INFR10069)"
   ]
  },
  {
   "cell_type": "markdown",
   "metadata": {},
   "source": [
    "# Assignment 1: Data analysis and visualisation"
   ]
  },
  {
   "cell_type": "markdown",
   "metadata": {},
   "source": [
    "<span style=\"color:red\">Q1: 34 Q2: 54 Total: 88</span>"
   ]
  },
  {
   "cell_type": "markdown",
   "metadata": {},
   "source": [
    "## Marking Breakdown\n",
    "\n",
    "**70-100%** results/answer correct plus extra achievement at understanding or analysis of results. Clear explanations, evidence of creative or deeper thought will contribute to a higher grade.\n",
    "\n",
    "**60-69%** results/answer correct or nearly correct and well explained.\n",
    "\n",
    "**50-59%** results/answer in right direction but significant errors.\n",
    "\n",
    "**40-49%** some evidence that the student has gained some understanding, but not answered the questions\n",
    "properly.\n",
    "\n",
    "**0-39%** serious error or slack work."
   ]
  },
  {
   "cell_type": "markdown",
   "metadata": {},
   "source": [
    "## Mechanics\n",
    "\n",
    "You should produce a Jupyter notebook in answer to this assignment.\n",
    "**You need to submit this notebook electronically as described below.**\n",
    "\n",
    "Place your notebook in a directory called `iamlans` and submit this directory using the submit command on a DICE machine. The format is:\n",
    "\n",
    "`submit iaml 1 iamlans`\n",
    "\n",
    "You can check the status of your submissions with the `show submissions` command.\n",
    "\n",
    "**Late submissions:** The policy stated in the School of Informatics MSc Degree Guide is that normally you will not be allowed to submit coursework late. See http://www.inf.ed.ac.uk/teaching/years/msc/courseguide10.html#exam for exceptions to this, e.g. in case of serious medical illness or serious personal problems.\n",
    "\n",
    "**Collaboration:** You may discuss the assignment with your colleagues, provided that the writing that you submit is entirely your own. That is, you should NOT borrow actual text or code from other students. We ask that you provide a list of the people who you've had discussions with (if any).\n"
   ]
  },
  {
   "cell_type": "markdown",
   "metadata": {},
   "source": [
    "## Important Instructions\n",
    "\n",
    "1. In the following questions you are asked to run experiments using Python (version 2.7) and the following packages:\n",
    "    * Numpy\n",
    "    * Pandas\n",
    "    * Scikit-learn\n",
    "    * Matplotlib\n",
    "    * Seaborn\n",
    "\n",
    "2. Before you start make sure you have set up a vitual environment (or conda environment if you are working on your own machine) and the required packages installed. Instructions on how to set-up the working enviornment and install the required packages can be found in `01_Lab_1_Introduction`.\n",
    "\n",
    "3. Wherever you are required to produce code you should use code cells, otherwise you should use markdown cells to report results and explain answers.\n",
    "\n",
    "4. The .csv files that you will be using are located at `./datasets` (the `datasets` directory is adjacent to this file).\n",
    "\n",
    "5. **IMPORTANT:** Keep your answers brief and concise. Most questions can be answered with 2-3 lines of explanation (excluding coding questions)."
   ]
  },
  {
   "cell_type": "markdown",
   "metadata": {},
   "source": [
    "## Imports\n",
    "\n",
    "Execute the cell below to import all packages you will be using in the rest of the assignemnt."
   ]
  },
  {
   "cell_type": "code",
   "execution_count": 1,
   "metadata": {
    "collapsed": true
   },
   "outputs": [],
   "source": [
    "from __future__ import print_function, division\n",
    "import os\n",
    "import numpy as np\n",
    "import pandas as pd\n",
    "import matplotlib.pyplot as plt\n",
    "import sklearn as sklearn\n",
    "import seaborn as sns\n",
    "%matplotlib inline"
   ]
  },
  {
   "cell_type": "markdown",
   "metadata": {},
   "source": [
    "## Description of the dataset\n",
    "\n",
    "This assignment is based on the 20 Newsgroups Dataset. This dataset is a collection of approximately 20,000 newsgroup documents, partitioned (nearly) evenly across 20 different newsgroups, each corresponding to a different topic. Some of the newsgroups are very closely related to each other (e.g. comp.sys.ibm.pc.hardware, comp.sys.mac.hardware), while others are highly unrelated (e.g misc.forsale, soc.religion.christian). \n",
    "\n",
    "There are three versions of the 20 Newsgroups Dataset. In this assignment we will use the `bydate` matlab version in which documents are sorted by date into training (60%) and test (40%) sets, newsgroup-identifying headers are dropped and duplicates are removed. This collection comprises roughly 61,000 different words, which results in a bag-of-words representation with frequency counts. More specifically, each document is represented by a 61,000 dimensional vector that contains the counts for each of the 61,000 different words present in the respective document. \n",
    "\n",
    "To save you time and to make the problem manageable with limited computational resources, we preprocessed the original dataset. We will use documents from only 5 out of the 20 newsgroups, which results in a 5-class problem. More specifically the 5 classes correspond to the following newsgroups: \n",
    "1. `alt.atheism`\n",
    "2. `comp.sys.ibm.pc.hardware`\n",
    "3. `comp.sys.mac.hardware`\n",
    "4. `rec.sport.baseball`\n",
    "5. `rec.sport.hockey `\n",
    "\n",
    "However, note here that classes 2-3 and 4-5 are rather closely related. Additionally, we computed the [mutual information](https://en.wikipedia.org/wiki/Mutual_information) of each word with the class attribute and selected the 520 words out of 61,000 that had highest mutual information. Therefore, our dataset is a $N \\times 520$ dimensional matrix, where $N$ is the number of documents. For very sophisticated technical reasons 1 was added to all the word counts in part A. The resulting representation is much more compact and can be used directly to perform our experiments in Python."
   ]
  },
  {
   "cell_type": "markdown",
   "metadata": {},
   "source": [
    "## 1. Exploration of the dataset [40%]"
   ]
  },
  {
   "cell_type": "markdown",
   "metadata": {},
   "source": [
    "Your first task is to get a feel for the data that you will be dealing with in the rest of the assignment."
   ]
  },
  {
   "cell_type": "markdown",
   "metadata": {},
   "source": [
    "### ========== Question 1.1 ==========\n",
    "Load the datasets `train_20news_partA.csv` and `train_20news_partB.csv` into two separate pandas DataFrames."
   ]
  },
  {
   "cell_type": "code",
   "execution_count": 2,
   "metadata": {
    "collapsed": false
   },
   "outputs": [],
   "source": [
    "# Your code goes here\n",
    "#Load the datasets train_20news_partA.csv \n",
    "train_20news_partA_loc = os.path.join(os.getcwd(), 'datasets', 'train_20news_partA.csv')\n",
    "train_20news_partA = pd.read_csv(train_20news_partA_loc)\n",
    "\n",
    "#Load the datasets train_20news_partB.csv\n",
    "train_20news_partB_loc = os.path.join(os.getcwd(), 'datasets', 'train_20news_partB.csv')\n",
    "train_20news_partB = pd.read_csv(train_20news_partB_loc)"
   ]
  },
  {
   "cell_type": "markdown",
   "metadata": {},
   "source": [
    "<span style=\"color:red\">Good</span>"
   ]
  },
  {
   "cell_type": "markdown",
   "metadata": {
    "collapsed": true
   },
   "source": [
    "### ========== Question 1.2 ==========\n",
    "Display basic information for dataset A such as number of columns, type, and memory usage (*hint: pandas dataframes have a built in method for this*) "
   ]
  },
  {
   "cell_type": "code",
   "execution_count": 3,
   "metadata": {
    "collapsed": false
   },
   "outputs": [
    {
     "name": "stdout",
     "output_type": "stream",
     "text": [
      "<class 'pandas.core.frame.DataFrame'>\n",
      "Int64Index: 2129 entries, 0 to 2256\n",
      "Columns: 521 entries, w1_aaa to class\n",
      "dtypes: int64(521)\n",
      "memory usage: 8.5 MB\n"
     ]
    }
   ],
   "source": [
    "# Your code goes here\n",
    "train_20news_partA.info()"
   ]
  },
  {
   "cell_type": "markdown",
   "metadata": {},
   "source": [
    "<span style=\"color:red\">Good</span>"
   ]
  },
  {
   "cell_type": "markdown",
   "metadata": {},
   "source": [
    "### ========== Question 1.3 ==========\n",
    "How many data points and how many attributes are there in the dataset that we can use to model the target variable `class`?"
   ]
  },
  {
   "cell_type": "markdown",
   "metadata": {},
   "source": [
    "*Your answer goes here*  \n",
    "There are 2129 **data points** and 521 **attributes**."
   ]
  },
  {
   "cell_type": "markdown",
   "metadata": {},
   "source": [
    "<span style=\"color:red\">There are 520 attributes and last column represents the target class.</span>"
   ]
  },
  {
   "cell_type": "markdown",
   "metadata": {
    "collapsed": true
   },
   "source": [
    "### ========== Question 1.4  ==========\n",
    "Use a Pandas method to display the summary statistics for the `news_A` DataFrame."
   ]
  },
  {
   "cell_type": "code",
   "execution_count": 4,
   "metadata": {
    "collapsed": false,
    "scrolled": true
   },
   "outputs": [
    {
     "data": {
      "text/html": [
       "<div>\n",
       "<table border=\"1\" class=\"dataframe\">\n",
       "  <thead>\n",
       "    <tr style=\"text-align: right;\">\n",
       "      <th></th>\n",
       "      <th>w1_aaa</th>\n",
       "      <th>w2_pins</th>\n",
       "      <th>w3_kmr</th>\n",
       "      <th>w4_notion</th>\n",
       "      <th>w5_queens</th>\n",
       "      <th>w6_dwyer</th>\n",
       "      <th>w7_defenseman</th>\n",
       "      <th>w8_gld</th>\n",
       "      <th>w9_tocchet</th>\n",
       "      <th>w10_home</th>\n",
       "      <th>...</th>\n",
       "      <th>w512_constantly</th>\n",
       "      <th>w513_generate</th>\n",
       "      <th>w514_definite</th>\n",
       "      <th>w515_lacks</th>\n",
       "      <th>w516_combination</th>\n",
       "      <th>w517_sitting</th>\n",
       "      <th>w518_surface</th>\n",
       "      <th>w519_fashion</th>\n",
       "      <th>w520_sit</th>\n",
       "      <th>class</th>\n",
       "    </tr>\n",
       "  </thead>\n",
       "  <tbody>\n",
       "    <tr>\n",
       "      <th>count</th>\n",
       "      <td>2129.000000</td>\n",
       "      <td>2129.000000</td>\n",
       "      <td>2129.000000</td>\n",
       "      <td>2129.000000</td>\n",
       "      <td>2129.000000</td>\n",
       "      <td>2129.00000</td>\n",
       "      <td>2129.000000</td>\n",
       "      <td>2129.000000</td>\n",
       "      <td>2129.000000</td>\n",
       "      <td>2129.000000</td>\n",
       "      <td>...</td>\n",
       "      <td>2129.000000</td>\n",
       "      <td>2129.000000</td>\n",
       "      <td>2129.000000</td>\n",
       "      <td>2129.000000</td>\n",
       "      <td>2129.000000</td>\n",
       "      <td>2129.000000</td>\n",
       "      <td>2129.000000</td>\n",
       "      <td>2129.000000</td>\n",
       "      <td>2129.000000</td>\n",
       "      <td>2129.000000</td>\n",
       "    </tr>\n",
       "    <tr>\n",
       "      <th>mean</th>\n",
       "      <td>5.128229</td>\n",
       "      <td>6.097698</td>\n",
       "      <td>6.120244</td>\n",
       "      <td>5.551902</td>\n",
       "      <td>5.521841</td>\n",
       "      <td>6.12776</td>\n",
       "      <td>5.633161</td>\n",
       "      <td>6.090653</td>\n",
       "      <td>5.970409</td>\n",
       "      <td>5.624706</td>\n",
       "      <td>...</td>\n",
       "      <td>9.666510</td>\n",
       "      <td>9.217473</td>\n",
       "      <td>9.061531</td>\n",
       "      <td>9.398309</td>\n",
       "      <td>9.175200</td>\n",
       "      <td>9.708783</td>\n",
       "      <td>8.807891</td>\n",
       "      <td>9.719587</td>\n",
       "      <td>9.307656</td>\n",
       "      <td>3.092532</td>\n",
       "    </tr>\n",
       "    <tr>\n",
       "      <th>std</th>\n",
       "      <td>38.292577</td>\n",
       "      <td>46.190953</td>\n",
       "      <td>46.656022</td>\n",
       "      <td>40.953913</td>\n",
       "      <td>40.978098</td>\n",
       "      <td>45.96434</td>\n",
       "      <td>41.146918</td>\n",
       "      <td>45.762060</td>\n",
       "      <td>44.266628</td>\n",
       "      <td>40.769105</td>\n",
       "      <td>...</td>\n",
       "      <td>45.844064</td>\n",
       "      <td>43.948910</td>\n",
       "      <td>40.969185</td>\n",
       "      <td>43.833064</td>\n",
       "      <td>42.403283</td>\n",
       "      <td>47.294120</td>\n",
       "      <td>39.341038</td>\n",
       "      <td>46.185082</td>\n",
       "      <td>45.059367</td>\n",
       "      <td>1.395948</td>\n",
       "    </tr>\n",
       "    <tr>\n",
       "      <th>min</th>\n",
       "      <td>1.000000</td>\n",
       "      <td>1.000000</td>\n",
       "      <td>1.000000</td>\n",
       "      <td>1.000000</td>\n",
       "      <td>1.000000</td>\n",
       "      <td>1.00000</td>\n",
       "      <td>1.000000</td>\n",
       "      <td>1.000000</td>\n",
       "      <td>1.000000</td>\n",
       "      <td>1.000000</td>\n",
       "      <td>...</td>\n",
       "      <td>1.000000</td>\n",
       "      <td>1.000000</td>\n",
       "      <td>1.000000</td>\n",
       "      <td>1.000000</td>\n",
       "      <td>1.000000</td>\n",
       "      <td>1.000000</td>\n",
       "      <td>1.000000</td>\n",
       "      <td>1.000000</td>\n",
       "      <td>1.000000</td>\n",
       "      <td>1.000000</td>\n",
       "    </tr>\n",
       "    <tr>\n",
       "      <th>25%</th>\n",
       "      <td>1.000000</td>\n",
       "      <td>1.000000</td>\n",
       "      <td>1.000000</td>\n",
       "      <td>1.000000</td>\n",
       "      <td>1.000000</td>\n",
       "      <td>1.00000</td>\n",
       "      <td>1.000000</td>\n",
       "      <td>1.000000</td>\n",
       "      <td>1.000000</td>\n",
       "      <td>1.000000</td>\n",
       "      <td>...</td>\n",
       "      <td>3.000000</td>\n",
       "      <td>2.000000</td>\n",
       "      <td>3.000000</td>\n",
       "      <td>3.000000</td>\n",
       "      <td>2.000000</td>\n",
       "      <td>3.000000</td>\n",
       "      <td>3.000000</td>\n",
       "      <td>3.000000</td>\n",
       "      <td>2.000000</td>\n",
       "      <td>2.000000</td>\n",
       "    </tr>\n",
       "    <tr>\n",
       "      <th>50%</th>\n",
       "      <td>1.000000</td>\n",
       "      <td>1.000000</td>\n",
       "      <td>1.000000</td>\n",
       "      <td>1.000000</td>\n",
       "      <td>1.000000</td>\n",
       "      <td>1.00000</td>\n",
       "      <td>1.000000</td>\n",
       "      <td>1.000000</td>\n",
       "      <td>1.000000</td>\n",
       "      <td>1.000000</td>\n",
       "      <td>...</td>\n",
       "      <td>5.000000</td>\n",
       "      <td>5.000000</td>\n",
       "      <td>5.000000</td>\n",
       "      <td>5.000000</td>\n",
       "      <td>5.000000</td>\n",
       "      <td>5.000000</td>\n",
       "      <td>5.000000</td>\n",
       "      <td>5.000000</td>\n",
       "      <td>4.000000</td>\n",
       "      <td>3.000000</td>\n",
       "    </tr>\n",
       "    <tr>\n",
       "      <th>75%</th>\n",
       "      <td>1.000000</td>\n",
       "      <td>1.000000</td>\n",
       "      <td>1.000000</td>\n",
       "      <td>1.000000</td>\n",
       "      <td>1.000000</td>\n",
       "      <td>1.00000</td>\n",
       "      <td>1.000000</td>\n",
       "      <td>1.000000</td>\n",
       "      <td>1.000000</td>\n",
       "      <td>1.000000</td>\n",
       "      <td>...</td>\n",
       "      <td>7.000000</td>\n",
       "      <td>7.000000</td>\n",
       "      <td>7.000000</td>\n",
       "      <td>7.000000</td>\n",
       "      <td>7.000000</td>\n",
       "      <td>7.000000</td>\n",
       "      <td>7.000000</td>\n",
       "      <td>7.000000</td>\n",
       "      <td>6.000000</td>\n",
       "      <td>4.000000</td>\n",
       "    </tr>\n",
       "    <tr>\n",
       "      <th>max</th>\n",
       "      <td>572.000000</td>\n",
       "      <td>583.000000</td>\n",
       "      <td>579.000000</td>\n",
       "      <td>580.000000</td>\n",
       "      <td>591.000000</td>\n",
       "      <td>600.00000</td>\n",
       "      <td>546.000000</td>\n",
       "      <td>591.000000</td>\n",
       "      <td>578.000000</td>\n",
       "      <td>578.000000</td>\n",
       "      <td>...</td>\n",
       "      <td>590.000000</td>\n",
       "      <td>587.000000</td>\n",
       "      <td>577.000000</td>\n",
       "      <td>598.000000</td>\n",
       "      <td>568.000000</td>\n",
       "      <td>599.000000</td>\n",
       "      <td>585.000000</td>\n",
       "      <td>600.000000</td>\n",
       "      <td>597.000000</td>\n",
       "      <td>5.000000</td>\n",
       "    </tr>\n",
       "  </tbody>\n",
       "</table>\n",
       "<p>8 rows × 521 columns</p>\n",
       "</div>"
      ],
      "text/plain": [
       "            w1_aaa      w2_pins       w3_kmr    w4_notion    w5_queens  \\\n",
       "count  2129.000000  2129.000000  2129.000000  2129.000000  2129.000000   \n",
       "mean      5.128229     6.097698     6.120244     5.551902     5.521841   \n",
       "std      38.292577    46.190953    46.656022    40.953913    40.978098   \n",
       "min       1.000000     1.000000     1.000000     1.000000     1.000000   \n",
       "25%       1.000000     1.000000     1.000000     1.000000     1.000000   \n",
       "50%       1.000000     1.000000     1.000000     1.000000     1.000000   \n",
       "75%       1.000000     1.000000     1.000000     1.000000     1.000000   \n",
       "max     572.000000   583.000000   579.000000   580.000000   591.000000   \n",
       "\n",
       "         w6_dwyer  w7_defenseman       w8_gld   w9_tocchet     w10_home  \\\n",
       "count  2129.00000    2129.000000  2129.000000  2129.000000  2129.000000   \n",
       "mean      6.12776       5.633161     6.090653     5.970409     5.624706   \n",
       "std      45.96434      41.146918    45.762060    44.266628    40.769105   \n",
       "min       1.00000       1.000000     1.000000     1.000000     1.000000   \n",
       "25%       1.00000       1.000000     1.000000     1.000000     1.000000   \n",
       "50%       1.00000       1.000000     1.000000     1.000000     1.000000   \n",
       "75%       1.00000       1.000000     1.000000     1.000000     1.000000   \n",
       "max     600.00000     546.000000   591.000000   578.000000   578.000000   \n",
       "\n",
       "          ...       w512_constantly  w513_generate  w514_definite  \\\n",
       "count     ...           2129.000000    2129.000000    2129.000000   \n",
       "mean      ...              9.666510       9.217473       9.061531   \n",
       "std       ...             45.844064      43.948910      40.969185   \n",
       "min       ...              1.000000       1.000000       1.000000   \n",
       "25%       ...              3.000000       2.000000       3.000000   \n",
       "50%       ...              5.000000       5.000000       5.000000   \n",
       "75%       ...              7.000000       7.000000       7.000000   \n",
       "max       ...            590.000000     587.000000     577.000000   \n",
       "\n",
       "        w515_lacks  w516_combination  w517_sitting  w518_surface  \\\n",
       "count  2129.000000       2129.000000   2129.000000   2129.000000   \n",
       "mean      9.398309          9.175200      9.708783      8.807891   \n",
       "std      43.833064         42.403283     47.294120     39.341038   \n",
       "min       1.000000          1.000000      1.000000      1.000000   \n",
       "25%       3.000000          2.000000      3.000000      3.000000   \n",
       "50%       5.000000          5.000000      5.000000      5.000000   \n",
       "75%       7.000000          7.000000      7.000000      7.000000   \n",
       "max     598.000000        568.000000    599.000000    585.000000   \n",
       "\n",
       "       w519_fashion     w520_sit        class  \n",
       "count   2129.000000  2129.000000  2129.000000  \n",
       "mean       9.719587     9.307656     3.092532  \n",
       "std       46.185082    45.059367     1.395948  \n",
       "min        1.000000     1.000000     1.000000  \n",
       "25%        3.000000     2.000000     2.000000  \n",
       "50%        5.000000     4.000000     3.000000  \n",
       "75%        7.000000     6.000000     4.000000  \n",
       "max      600.000000   597.000000     5.000000  \n",
       "\n",
       "[8 rows x 521 columns]"
      ]
     },
     "execution_count": 4,
     "metadata": {},
     "output_type": "execute_result"
    }
   ],
   "source": [
    "# Your code goes here\n",
    "train_20news_partA.describe()"
   ]
  },
  {
   "cell_type": "markdown",
   "metadata": {},
   "source": [
    "<span style=\"color:red\">Good</span>"
   ]
  },
  {
   "cell_type": "markdown",
   "metadata": {
    "collapsed": true
   },
   "source": [
    "### ========== Question 1.5 ==========\n",
    "Display the first 7 instances of dataset A."
   ]
  },
  {
   "cell_type": "code",
   "execution_count": 5,
   "metadata": {
    "collapsed": false
   },
   "outputs": [
    {
     "data": {
      "text/html": [
       "<div>\n",
       "<table border=\"1\" class=\"dataframe\">\n",
       "  <thead>\n",
       "    <tr style=\"text-align: right;\">\n",
       "      <th></th>\n",
       "      <th>w1_aaa</th>\n",
       "      <th>w2_pins</th>\n",
       "      <th>w3_kmr</th>\n",
       "      <th>w4_notion</th>\n",
       "      <th>w5_queens</th>\n",
       "      <th>w6_dwyer</th>\n",
       "      <th>w7_defenseman</th>\n",
       "      <th>w8_gld</th>\n",
       "      <th>w9_tocchet</th>\n",
       "      <th>w10_home</th>\n",
       "      <th>...</th>\n",
       "      <th>w512_constantly</th>\n",
       "      <th>w513_generate</th>\n",
       "      <th>w514_definite</th>\n",
       "      <th>w515_lacks</th>\n",
       "      <th>w516_combination</th>\n",
       "      <th>w517_sitting</th>\n",
       "      <th>w518_surface</th>\n",
       "      <th>w519_fashion</th>\n",
       "      <th>w520_sit</th>\n",
       "      <th>class</th>\n",
       "    </tr>\n",
       "  </thead>\n",
       "  <tbody>\n",
       "    <tr>\n",
       "      <th>0</th>\n",
       "      <td>1</td>\n",
       "      <td>1</td>\n",
       "      <td>1</td>\n",
       "      <td>1</td>\n",
       "      <td>1</td>\n",
       "      <td>1</td>\n",
       "      <td>1</td>\n",
       "      <td>1</td>\n",
       "      <td>1</td>\n",
       "      <td>1</td>\n",
       "      <td>...</td>\n",
       "      <td>1</td>\n",
       "      <td>5</td>\n",
       "      <td>3</td>\n",
       "      <td>6</td>\n",
       "      <td>8</td>\n",
       "      <td>4</td>\n",
       "      <td>6</td>\n",
       "      <td>4</td>\n",
       "      <td>8</td>\n",
       "      <td>4</td>\n",
       "    </tr>\n",
       "    <tr>\n",
       "      <th>1</th>\n",
       "      <td>1</td>\n",
       "      <td>1</td>\n",
       "      <td>1</td>\n",
       "      <td>1</td>\n",
       "      <td>1</td>\n",
       "      <td>1</td>\n",
       "      <td>1</td>\n",
       "      <td>1</td>\n",
       "      <td>1</td>\n",
       "      <td>1</td>\n",
       "      <td>...</td>\n",
       "      <td>2</td>\n",
       "      <td>3</td>\n",
       "      <td>6</td>\n",
       "      <td>8</td>\n",
       "      <td>3</td>\n",
       "      <td>4</td>\n",
       "      <td>5</td>\n",
       "      <td>6</td>\n",
       "      <td>5</td>\n",
       "      <td>4</td>\n",
       "    </tr>\n",
       "    <tr>\n",
       "      <th>2</th>\n",
       "      <td>1</td>\n",
       "      <td>1</td>\n",
       "      <td>1</td>\n",
       "      <td>1</td>\n",
       "      <td>1</td>\n",
       "      <td>1</td>\n",
       "      <td>1</td>\n",
       "      <td>1</td>\n",
       "      <td>1</td>\n",
       "      <td>2</td>\n",
       "      <td>...</td>\n",
       "      <td>4</td>\n",
       "      <td>2</td>\n",
       "      <td>6</td>\n",
       "      <td>5</td>\n",
       "      <td>2</td>\n",
       "      <td>5</td>\n",
       "      <td>5</td>\n",
       "      <td>7</td>\n",
       "      <td>8</td>\n",
       "      <td>2</td>\n",
       "    </tr>\n",
       "    <tr>\n",
       "      <th>3</th>\n",
       "      <td>1</td>\n",
       "      <td>1</td>\n",
       "      <td>1</td>\n",
       "      <td>1</td>\n",
       "      <td>1</td>\n",
       "      <td>1</td>\n",
       "      <td>1</td>\n",
       "      <td>1</td>\n",
       "      <td>1</td>\n",
       "      <td>1</td>\n",
       "      <td>...</td>\n",
       "      <td>6</td>\n",
       "      <td>3</td>\n",
       "      <td>6</td>\n",
       "      <td>1</td>\n",
       "      <td>1</td>\n",
       "      <td>8</td>\n",
       "      <td>1</td>\n",
       "      <td>8</td>\n",
       "      <td>4</td>\n",
       "      <td>3</td>\n",
       "    </tr>\n",
       "    <tr>\n",
       "      <th>4</th>\n",
       "      <td>1</td>\n",
       "      <td>1</td>\n",
       "      <td>1</td>\n",
       "      <td>1</td>\n",
       "      <td>1</td>\n",
       "      <td>1</td>\n",
       "      <td>1</td>\n",
       "      <td>1</td>\n",
       "      <td>1</td>\n",
       "      <td>1</td>\n",
       "      <td>...</td>\n",
       "      <td>6</td>\n",
       "      <td>1</td>\n",
       "      <td>7</td>\n",
       "      <td>8</td>\n",
       "      <td>6</td>\n",
       "      <td>3</td>\n",
       "      <td>1</td>\n",
       "      <td>8</td>\n",
       "      <td>4</td>\n",
       "      <td>3</td>\n",
       "    </tr>\n",
       "    <tr>\n",
       "      <th>5</th>\n",
       "      <td>1</td>\n",
       "      <td>1</td>\n",
       "      <td>1</td>\n",
       "      <td>1</td>\n",
       "      <td>1</td>\n",
       "      <td>1</td>\n",
       "      <td>1</td>\n",
       "      <td>1</td>\n",
       "      <td>1</td>\n",
       "      <td>1</td>\n",
       "      <td>...</td>\n",
       "      <td>7</td>\n",
       "      <td>5</td>\n",
       "      <td>4</td>\n",
       "      <td>5</td>\n",
       "      <td>5</td>\n",
       "      <td>7</td>\n",
       "      <td>7</td>\n",
       "      <td>7</td>\n",
       "      <td>2</td>\n",
       "      <td>2</td>\n",
       "    </tr>\n",
       "    <tr>\n",
       "      <th>6</th>\n",
       "      <td>1</td>\n",
       "      <td>1</td>\n",
       "      <td>1</td>\n",
       "      <td>1</td>\n",
       "      <td>2</td>\n",
       "      <td>1</td>\n",
       "      <td>1</td>\n",
       "      <td>1</td>\n",
       "      <td>1</td>\n",
       "      <td>1</td>\n",
       "      <td>...</td>\n",
       "      <td>3</td>\n",
       "      <td>6</td>\n",
       "      <td>8</td>\n",
       "      <td>8</td>\n",
       "      <td>3</td>\n",
       "      <td>5</td>\n",
       "      <td>2</td>\n",
       "      <td>1</td>\n",
       "      <td>2</td>\n",
       "      <td>1</td>\n",
       "    </tr>\n",
       "  </tbody>\n",
       "</table>\n",
       "<p>7 rows × 521 columns</p>\n",
       "</div>"
      ],
      "text/plain": [
       "   w1_aaa  w2_pins  w3_kmr  w4_notion  w5_queens  w6_dwyer  w7_defenseman  \\\n",
       "0       1        1       1          1          1         1              1   \n",
       "1       1        1       1          1          1         1              1   \n",
       "2       1        1       1          1          1         1              1   \n",
       "3       1        1       1          1          1         1              1   \n",
       "4       1        1       1          1          1         1              1   \n",
       "5       1        1       1          1          1         1              1   \n",
       "6       1        1       1          1          2         1              1   \n",
       "\n",
       "   w8_gld  w9_tocchet  w10_home  ...    w512_constantly  w513_generate  \\\n",
       "0       1           1         1  ...                  1              5   \n",
       "1       1           1         1  ...                  2              3   \n",
       "2       1           1         2  ...                  4              2   \n",
       "3       1           1         1  ...                  6              3   \n",
       "4       1           1         1  ...                  6              1   \n",
       "5       1           1         1  ...                  7              5   \n",
       "6       1           1         1  ...                  3              6   \n",
       "\n",
       "   w514_definite  w515_lacks  w516_combination  w517_sitting  w518_surface  \\\n",
       "0              3           6                 8             4             6   \n",
       "1              6           8                 3             4             5   \n",
       "2              6           5                 2             5             5   \n",
       "3              6           1                 1             8             1   \n",
       "4              7           8                 6             3             1   \n",
       "5              4           5                 5             7             7   \n",
       "6              8           8                 3             5             2   \n",
       "\n",
       "   w519_fashion  w520_sit  class  \n",
       "0             4         8      4  \n",
       "1             6         5      4  \n",
       "2             7         8      2  \n",
       "3             8         4      3  \n",
       "4             8         4      3  \n",
       "5             7         2      2  \n",
       "6             1         2      1  \n",
       "\n",
       "[7 rows x 521 columns]"
      ]
     },
     "execution_count": 5,
     "metadata": {},
     "output_type": "execute_result"
    }
   ],
   "source": [
    "# Your code goes here\n",
    "train_20news_partA.head(7)"
   ]
  },
  {
   "cell_type": "markdown",
   "metadata": {},
   "source": [
    "<span style=\"color:red\">Good</span>"
   ]
  },
  {
   "cell_type": "markdown",
   "metadata": {},
   "source": [
    "### ========== Question 1.6 ==========\n",
    "Display the names of the first 100 attributes in dataset A. \n",
    "\n",
    "You might observe that each attribute consists of two parts:\n",
    "1. `w<x>_` (where x is an index corresponding to each word)\n",
    "2. the actual name of the word"
   ]
  },
  {
   "cell_type": "code",
   "execution_count": 6,
   "metadata": {
    "collapsed": false
   },
   "outputs": [
    {
     "data": {
      "text/plain": [
       "0               aaa\n",
       "1              pins\n",
       "2               kmr\n",
       "3            notion\n",
       "4            queens\n",
       "5             dwyer\n",
       "6        defenseman\n",
       "7               gld\n",
       "8           tocchet\n",
       "9              home\n",
       "10           buying\n",
       "11         internet\n",
       "12            slots\n",
       "13       compatible\n",
       "14         transfer\n",
       "15        baltimore\n",
       "16             mean\n",
       "17           person\n",
       "18      performance\n",
       "19          support\n",
       "20              tor\n",
       "21               gm\n",
       "22            mouse\n",
       "23             base\n",
       "24       population\n",
       "25              bob\n",
       "26              set\n",
       "27               it\n",
       "28            earth\n",
       "29            faith\n",
       "          ...      \n",
       "70               nl\n",
       "71            field\n",
       "72        connector\n",
       "73            stars\n",
       "74               th\n",
       "75          install\n",
       "76           traded\n",
       "77    configuration\n",
       "78         standard\n",
       "79         rotation\n",
       "80             ultb\n",
       "81           sports\n",
       "82              pds\n",
       "83           canada\n",
       "84              did\n",
       "85            clock\n",
       "86            first\n",
       "87           switch\n",
       "88          tonight\n",
       "89           record\n",
       "90           singer\n",
       "91           majors\n",
       "92           royals\n",
       "93             does\n",
       "94           flames\n",
       "95               of\n",
       "96           series\n",
       "97            plays\n",
       "98              det\n",
       "99          pitched\n",
       "dtype: object"
      ]
     },
     "execution_count": 6,
     "metadata": {},
     "output_type": "execute_result"
    }
   ],
   "source": [
    "# Your code goes here\n",
    "import re\n",
    "attribute = pd.Series(train_20news_partA.columns)\n",
    "#Precompiled the regular expressions\n",
    "re_extract_name = re.compile('^(w\\d{0,3})\\_(\\w+)$')\n",
    "#Using regular expressions to match the actual name of the attributes\n",
    "for n in range(len(attribute) - 1):\n",
    "    attribute[n] = re_extract_name.match(attribute[n]).group(2)\n",
    "attribute.head(100)"
   ]
  },
  {
   "cell_type": "markdown",
   "metadata": {},
   "source": [
    "<span style=\"color:red\">A simpler way to answer is news_A.columns[:100]</span>"
   ]
  },
  {
   "cell_type": "markdown",
   "metadata": {},
   "source": [
    "### ========== Question 1.7 ==========\n",
    "Familiarise yourself with the [`stripplot`](https://stanford.edu/~mwaskom/software/seaborn/generated/seaborn.stripplot.html) function in `seaborn`. Pick one attribute of your choice (except `class`) and display a stripplot for that attribute for dataset A. Demonstrate the distribution of the data separately for each class (by making appropriate use of the `x` argument in `stripplot`). Set the `jitter` argument to `True` and the `alpha` argument to an appropriate value (to add transparency). When the jitter parameter is enabled a small amount of noise is added to the data so that there is less overlap and the distribution is easier to visualise."
   ]
  },
  {
   "cell_type": "code",
   "execution_count": 7,
   "metadata": {
    "collapsed": false,
    "scrolled": true
   },
   "outputs": [
    {
     "data": {
      "image/png": "[encoded data removed]",
      "text/plain": [
       "<matplotlib.figure.Figure at 0x114e72a10>"
      ]
     },
     "metadata": {},
     "output_type": "display_data"
    }
   ],
   "source": [
    "# Your code goes here\n",
    "ax = sns.stripplot(x = train_20news_partA['w10_home'], data = train_20news_partA, jitter = True, alpha = 0.55)"
   ]
  },
  {
   "cell_type": "markdown",
   "metadata": {},
   "source": [
    "<span style=\"color:red\">You need to show attribute values against all classes. One way is to use: sns.stripplot(data=df, x='class', y='w36_adapter', jitter=True, alpha=.5)</span>"
   ]
  },
  {
   "cell_type": "markdown",
   "metadata": {},
   "source": [
    "### ========== Question 1.8 ==========\n",
    "The stripplot illustrates the distribution of a single attribute. We can also visualise the joint distribution of two variables by using a scatter plot. Again, we want to add a bit of noise into the data so that is easier to see which parts of the space (2-dimensional in our case) have larger probability densities. \n",
    "\n",
    "For this, you will be using the function `scatter_jitter` provided below. This function takes as input two numpy arrays containing the features of interest. Pick two attributes of your choice from dataset A and use the provided function to plot their joint distribution. You can play around with the amount of noise added by tweaking the `jitter` parameter. Alternatively, you can just use its default value which is set to 0.2."
   ]
  },
  {
   "cell_type": "code",
   "execution_count": 8,
   "metadata": {
    "collapsed": true
   },
   "outputs": [],
   "source": [
    "def scatter_jitter(arr1, arr2, jitter=0.2):\n",
    "    \"\"\" Plots a joint scatter plot of two arrays by adding small noise to each example. \n",
    "    Noise is proportional to variance in each dimension. \"\"\"\n",
    "    arr1 = np.asarray(arr1)\n",
    "    arr2 = np.asarray(arr2)\n",
    "    arr1 = arr1 + jitter*arr1.std(axis=0)*np.random.standard_normal(arr1.shape)\n",
    "    arr2 = arr2 + jitter*arr2.std(axis=0)*np.random.standard_normal(arr2.shape)\n",
    "    plt.scatter(arr1, arr2, marker=4)"
   ]
  },
  {
   "cell_type": "code",
   "execution_count": 9,
   "metadata": {
    "collapsed": false,
    "scrolled": true
   },
   "outputs": [
    {
     "data": {
      "text/plain": [
       "<matplotlib.text.Text at 0x1183abc90>"
      ]
     },
     "execution_count": 9,
     "metadata": {},
     "output_type": "execute_result"
    },
    {
     "data": {
      "image/png": "[encoded data removed]",
      "text/plain": [
       "<matplotlib.figure.Figure at 0x1182978d0>"
      ]
     },
     "metadata": {},
     "output_type": "display_data"
    }
   ],
   "source": [
    "# Your code goes here\n",
    "scatter_jitter(train_20news_partA['w10_home'], train_20news_partA['w12_internet'], jitter = 0.2)\n",
    "plt.title('Joint Distribution of Two Variables',fontsize = 12)\n",
    "plt.xlabel('w10_home', color = 'red')\n",
    "plt.ylabel('w12_internet', color = 'green')"
   ]
  },
  {
   "cell_type": "markdown",
   "metadata": {},
   "source": [
    "<span style=\"color:red\">Good</span>"
   ]
  },
  {
   "cell_type": "markdown",
   "metadata": {},
   "source": [
    "### ========== Question 1.9 ==========\n",
    "From the strip and scatter plots above you might observe that there is something peculiar about the data. Indeed most attributes take very small values (usually in the range 1-10) but there are some data points (i.e. rows) in the dataset where the attributes take very large values. These data points are called [outliers](https://en.wikipedia.org/wiki/Outlier).\n",
    "\n",
    "You might think that the presence of outliers in the dataset has been a resut of noise contamination (you wouldn't expect the same word to appear 600 times within an e-mail, would you?). Your job now is to create a new dataset from dataset A (name it `news_A_clean`) and remove the outliers. Create some metric to find the outliers and check that your metric is reasonable. Be careful not to alter the original `news_A`...we may require it in its dirty format later..."
   ]
  },
  {
   "cell_type": "code",
   "execution_count": 10,
   "metadata": {
    "collapsed": false,
    "scrolled": true
   },
   "outputs": [
    {
     "name": "stdout",
     "output_type": "stream",
     "text": [
      "      w1_aaa  w2_pins  w3_kmr  w4_notion  w5_queens  w6_dwyer  w7_defenseman  \\\n",
      "0          1        1       1          1          1         1              1   \n",
      "1          1        1       1          1          1         1              1   \n",
      "2          1        1       1          1          1         1              1   \n",
      "3          1        1       1          1          1         1              1   \n",
      "4          1        1       1          1          1         1              1   \n",
      "5          1        1       1          1          1         1              1   \n",
      "6          1        1       1          1          2         1              1   \n",
      "7          1        1       1          1          1         1              1   \n",
      "8          1        1       1          1          1         1              1   \n",
      "9          1        1       1          1          1         1              1   \n",
      "10         1        1       1          1          1         1              1   \n",
      "11         1        1       1          1          1         1              1   \n",
      "12         1        1       1          1          1         1              1   \n",
      "13         1        1       1          1          1         1              1   \n",
      "14         1        1       3          1          1         2              1   \n",
      "15         1        1       1          1          1         1              1   \n",
      "16         1        1       1          1          1         1              1   \n",
      "17         1        1       1          1          1         1              1   \n",
      "18         1        1       1          1          1         1              1   \n",
      "19         1        1       1          1          1         1              1   \n",
      "20         1        1       1          1          1         1              1   \n",
      "21         1        1       1          1          1         1              1   \n",
      "22         1        1       1          1          1         1              1   \n",
      "23         1        2       1          1          1         1              1   \n",
      "24         1        1       1          1          1         1              1   \n",
      "25         1        1       1          1          1         1              1   \n",
      "26         1        1       1          1          1         1              1   \n",
      "27         1        1       1          1          1         1              1   \n",
      "28         1        1       1          1          1         1              1   \n",
      "29         1        1       1          1          1         1              1   \n",
      "...      ...      ...     ...        ...        ...       ...            ...   \n",
      "2226       1        1       1          1          1         1              1   \n",
      "2227       1        1       1          1          1         1              1   \n",
      "2228       3        1       1          1          1         1              1   \n",
      "2229       1        1       1          1          1         1              1   \n",
      "2230       1        1       1          1          1         1              1   \n",
      "2231       1        1       1          1          1         1              1   \n",
      "2232       1        1       1          1          1         1              1   \n",
      "2233       1        1       1          1          1         1              1   \n",
      "2234       1        1       1          1          1         1              1   \n",
      "2235       1        1       1          1          1         1              1   \n",
      "2236       1        1       1          1          1         1              1   \n",
      "2237       1        1       1          1          1         1              1   \n",
      "2238       1        1       1          1          1         1              1   \n",
      "2239       1        1       1          1          1         1              1   \n",
      "2240       1        1       1          1          1         1              1   \n",
      "2241       1        1       1          1          2         1              1   \n",
      "2242       1        1       1          1          1         1              1   \n",
      "2243       1        1       1          1          1         1              1   \n",
      "2244       1        1       1          1          1         1              1   \n",
      "2245       1        1       1          1          1         1              1   \n",
      "2246       1        1       1          1          1         1              1   \n",
      "2247       1        1       1          1          1         1              1   \n",
      "2249       1        1       1          1          1         1              1   \n",
      "2250       1        1       1          1          1         1              1   \n",
      "2251       1        1       1          1          1         1              3   \n",
      "2252       1        1       1          1          1         1              1   \n",
      "2253       1        1       1          1          1         1              1   \n",
      "2254       1        1       1          1          1         1              1   \n",
      "2255       1        1       1          1          1         1              1   \n",
      "2256       1        1       1          1          1         1              1   \n",
      "\n",
      "      w8_gld  w9_tocchet  w10_home  ...    w512_constantly  w513_generate  \\\n",
      "0          1           1         1  ...                  1              5   \n",
      "1          1           1         1  ...                  2              3   \n",
      "2          1           1         2  ...                  4              2   \n",
      "3          1           1         1  ...                  6              3   \n",
      "4          1           1         1  ...                  6              1   \n",
      "5          1           1         1  ...                  7              5   \n",
      "6          1           1         1  ...                  3              6   \n",
      "7          1           1         1  ...                  2              8   \n",
      "8          1           1         1  ...                  5              3   \n",
      "9          1           1         1  ...                  3              7   \n",
      "10         1           1         1  ...                  2              2   \n",
      "11         5           1         1  ...                  7              5   \n",
      "12         1           1         1  ...                  7              7   \n",
      "13         1           1         1  ...                  8              5   \n",
      "14         1           1         1  ...                  5              8   \n",
      "15         1           1         1  ...                  4              1   \n",
      "16         1           1         1  ...                  2              6   \n",
      "17         1           1         1  ...                  7              4   \n",
      "18         1           1         1  ...                  3              3   \n",
      "19         1           1         1  ...                  6              3   \n",
      "20         1           1         3  ...                  5              7   \n",
      "21         1           1         1  ...                  1              8   \n",
      "22         1           1         1  ...                  7              4   \n",
      "23         1           1         1  ...                  6              8   \n",
      "24         1           1         1  ...                  1              3   \n",
      "25         1           1         1  ...                  1              4   \n",
      "26         1           1         1  ...                  4              3   \n",
      "27         1           1         1  ...                  6              7   \n",
      "28         1           1         1  ...                  2              2   \n",
      "29         1           1         1  ...                  4              5   \n",
      "...      ...         ...       ...  ...                ...            ...   \n",
      "2226       1           1         1  ...                  2              4   \n",
      "2227       1           1         1  ...                  2              4   \n",
      "2228       1           1         1  ...                  4              1   \n",
      "2229       1           1         1  ...                  4              6   \n",
      "2230       1           1         1  ...                  4              1   \n",
      "2231       1           1         3  ...                  4              2   \n",
      "2232       1           1         1  ...                  8              6   \n",
      "2233       1           1         1  ...                  4              8   \n",
      "2234       1           1         1  ...                  8              1   \n",
      "2235       1           1         1  ...                  1              4   \n",
      "2236       1           1         4  ...                  4              6   \n",
      "2237       1           1         1  ...                  8              7   \n",
      "2238       1           1         1  ...                  6              8   \n",
      "2239       1           1         1  ...                  8              6   \n",
      "2240       1           1         1  ...                  4              3   \n",
      "2241       1           1         1  ...                  7              5   \n",
      "2242       1           1         1  ...                  7              7   \n",
      "2243       1           1         1  ...                  5              4   \n",
      "2244       1           1         1  ...                  4              6   \n",
      "2245       1           1         1  ...                  8              3   \n",
      "2246       1           1         1  ...                  5              4   \n",
      "2247       1           1         1  ...                  7              6   \n",
      "2249       1           1         1  ...                  5              4   \n",
      "2250       1           1         1  ...                  3              8   \n",
      "2251       1           1         1  ...                  2              3   \n",
      "2252       1           1         1  ...                  1              8   \n",
      "2253       1           1         1  ...                  1              2   \n",
      "2254       1           1         1  ...                  2              4   \n",
      "2255       1           1         2  ...                  7              3   \n",
      "2256       1           1         1  ...                  5              7   \n",
      "\n",
      "      w514_definite  w515_lacks  w516_combination  w517_sitting  w518_surface  \\\n",
      "0                 3           6                 8             4             6   \n",
      "1                 6           8                 3             4             5   \n",
      "2                 6           5                 2             5             5   \n",
      "3                 6           1                 1             8             1   \n",
      "4                 7           8                 6             3             1   \n",
      "5                 4           5                 5             7             7   \n",
      "6                 8           8                 3             5             2   \n",
      "7                 6           2                 3             7             8   \n",
      "8                 7           8                 1             2             3   \n",
      "9                 2           4                 1             2             5   \n",
      "10                4           7                 4             4             7   \n",
      "11                1           2                 1             1             6   \n",
      "12                8           1                 2             1             8   \n",
      "13                4           8                 8             3             2   \n",
      "14                2           4                 7             7             8   \n",
      "15                8           1                 4             2             4   \n",
      "16                4           8                 7             1             6   \n",
      "17                5           8                 1             7             3   \n",
      "18                3           4                 2             8             8   \n",
      "19                3           2                 7             6             1   \n",
      "20                6           8                 4             1             8   \n",
      "21                4           2                 5             7             7   \n",
      "22                4           8                 2             5             8   \n",
      "23                3           2                 5             5             2   \n",
      "24                8           2                 7             2             4   \n",
      "25                1           6                 4             7             1   \n",
      "26                6           3                 5             7             3   \n",
      "27                1           5                 8             1             8   \n",
      "28                8           7                 7             3             1   \n",
      "29                7           3                 2             4             4   \n",
      "...             ...         ...               ...           ...           ...   \n",
      "2226              3           8                 8             6             5   \n",
      "2227              4           6                 8             6             3   \n",
      "2228              1           6                 4             2             2   \n",
      "2229              8           7                 3             5             8   \n",
      "2230              2           7                 3             7             3   \n",
      "2231              4           1                 6             6             7   \n",
      "2232              7           3                 8             5             1   \n",
      "2233              4           4                 8             8             4   \n",
      "2234              6           1                 8             5             6   \n",
      "2235              8           7                 2             4             6   \n",
      "2236              4           2                 5             1             6   \n",
      "2237              6           1                 5             8             7   \n",
      "2238              3           7                 2             6             6   \n",
      "2239              5           5                 7             3             3   \n",
      "2240              6           7                 6             7             6   \n",
      "2241              5           1                 3             6             4   \n",
      "2242              1           3                 5             3             2   \n",
      "2243              3           4                 2             1             2   \n",
      "2244              2           1                 2             6             6   \n",
      "2245              4           6                 3             5             3   \n",
      "2246              7           1                 7             7             7   \n",
      "2247              8           8                 8             7             8   \n",
      "2249              2           1                 4             8             5   \n",
      "2250              7           2                 6             2             5   \n",
      "2251              5           6                 2             7             5   \n",
      "2252              2           1                 8             4             5   \n",
      "2253              5           3                 7             4             5   \n",
      "2254              1           2                 1             2             3   \n",
      "2255              8           8                 2             2             7   \n",
      "2256              5           2                 3             4             5   \n",
      "\n",
      "      w519_fashion  w520_sit  class  \n",
      "0                4         8      4  \n",
      "1                6         5      4  \n",
      "2                7         8      2  \n",
      "3                8         4      3  \n",
      "4                8         4      3  \n",
      "5                7         2      2  \n",
      "6                1         2      1  \n",
      "7                2         5      3  \n",
      "8                2         6      5  \n",
      "9                7         1      1  \n",
      "10               5         5      2  \n",
      "11               6         4      5  \n",
      "12               1         8      1  \n",
      "13               4         5      3  \n",
      "14               8         8      1  \n",
      "15               6         5      2  \n",
      "16               5         8      3  \n",
      "17               7         2      4  \n",
      "18               5         1      2  \n",
      "19               7         6      3  \n",
      "20               4         3      4  \n",
      "21               5         4      2  \n",
      "22               6         3      2  \n",
      "23               2         4      3  \n",
      "24               2         8      1  \n",
      "25               1         2      1  \n",
      "26               2         2      1  \n",
      "27               2         4      1  \n",
      "28               3         4      5  \n",
      "29               5         6      5  \n",
      "...            ...       ...    ...  \n",
      "2226             1         2      5  \n",
      "2227             8         4      3  \n",
      "2228             7         7      4  \n",
      "2229             1         6      2  \n",
      "2230             5         7      2  \n",
      "2231             5         1      4  \n",
      "2232             5         8      5  \n",
      "2233             5         5      5  \n",
      "2234             3         8      4  \n",
      "2235             5         4      5  \n",
      "2236             8         7      4  \n",
      "2237             4         2      2  \n",
      "2238             5         3      4  \n",
      "2239             1         1      3  \n",
      "2240             5         8      5  \n",
      "2241             5         7      1  \n",
      "2242             8         1      5  \n",
      "2243             3         3      2  \n",
      "2244             2         7      4  \n",
      "2245             4         4      5  \n",
      "2246             6         8      3  \n",
      "2247             4         6      1  \n",
      "2249             3         7      3  \n",
      "2250             7         7      1  \n",
      "2251             3         8      5  \n",
      "2252             4         1      3  \n",
      "2253             2         7      2  \n",
      "2254             7         5      5  \n",
      "2255             8         7      4  \n",
      "2256             1         2      3  \n",
      "\n",
      "[2091 rows x 521 columns]\n"
     ]
    }
   ],
   "source": [
    "# Your code goes here\n",
    "news_A_clean = pd.DataFrame(train_20news_partA)\n",
    "t20newspA_mean = train_20news_partA.mean()\n",
    "t20newspA_std = train_20news_partA.std()\n",
    "t20newspA_index = len(train_20news_partA.index)\n",
    "t20newspA_column = len(train_20news_partA.columns)\n",
    "#Used in the construction of approximate 95% confidence intervals.\n",
    "n = 1.96\n",
    "#The upper and lower of the confidence intervals\n",
    "CI_upper = t20newspA_mean + n * t20newspA_std\n",
    "CI_lower = t20newspA_mean - n * t20newspA_std\n",
    "attribute = pd.Series(train_20news_partA.columns)\n",
    "#The outliers are out of the confidence intervals(>mean+1.96*std or <mean-1.96*std)\n",
    "for c in range(len(attribute) - 1):\n",
    "    news_A_clean = news_A_clean.ix[(news_A_clean[attribute[c]] <= CI_upper[c]) & \n",
    "                                   (news_A_clean[attribute[c]] >= CI_lower[c])]\n",
    "print (news_A_clean)"
   ]
  },
  {
   "cell_type": "markdown",
   "metadata": {},
   "source": [
    "<span style=\"color:red\">Your criteria for detecting outliers (using mean and st. dev.) is reasonable. Other criteria may be using max value of the feature, or the document length. Also, plotting data with outliers can be more helpful and a reasonable justification for your criteria.</span>"
   ]
  },
  {
   "cell_type": "markdown",
   "metadata": {},
   "source": [
    "### ========== Question 1.10 ==========\n",
    "Write code to return the number of data points in the clean dataset, and the number of documents that have been excluded as outliers"
   ]
  },
  {
   "cell_type": "code",
   "execution_count": 11,
   "metadata": {
    "collapsed": false
   },
   "outputs": [
    {
     "name": "stdout",
     "output_type": "stream",
     "text": [
      "news_A_clean_lengh = 2091\n",
      "excluded_outliers = 38\n"
     ]
    }
   ],
   "source": [
    "# Your code goes here\n",
    "news_A_clean_lengh = len(news_A_clean.index)\n",
    "excluded_outliers = t20newspA_index - news_A_clean_lengh\n",
    "print (\"news_A_clean_lengh = %d\\nexcluded_outliers = %d\" % \n",
    "       (news_A_clean_lengh,excluded_outliers))"
   ]
  },
  {
   "cell_type": "markdown",
   "metadata": {},
   "source": [
    "<span style=\"color:red\">Good</span>"
   ]
  },
  {
   "cell_type": "markdown",
   "metadata": {},
   "source": [
    "## 2. Naive Bayes classification [60%]\n",
    "Now we want to fit a Gaussian Naive Bayes model to the cleaned dataset A. You might want first to familiarise yourself with the [`GaussianNB`](http://scikit-learn.org/stable/modules/generated/sklearn.naive_bayes.GaussianNB.html) class in `Sklearn`."
   ]
  },
  {
   "cell_type": "markdown",
   "metadata": {},
   "source": [
    "### ========== Question 2.1 ==========\n",
    "\n",
    "By using the `scatter_jitter` function provided above, display a scatter plot of the features `w281_ico` and `w273_tek` for the cleaned dataset A. Set the jitter value to something small (e.g. 0.1). Label axes appropriately."
   ]
  },
  {
   "cell_type": "code",
   "execution_count": 12,
   "metadata": {
    "collapsed": false,
    "scrolled": true
   },
   "outputs": [
    {
     "data": {
      "image/png": "[encoded data removed]",
      "text/plain": [
       "<matplotlib.figure.Figure at 0x1183092d0>"
      ]
     },
     "metadata": {},
     "output_type": "display_data"
    }
   ],
   "source": [
    "# Your code goes here\n",
    "scatter_jitter(news_A_clean['w281_ico'], news_A_clean['w273_tek'], \n",
    "               jitter = 0.1)\n",
    "plt.title('Joint Distribution of Two Variables',fontsize = 12)\n",
    "plt.xlabel('w281_ico', color = 'red')\n",
    "plt.ylabel('w273_tek', color = 'green')\n",
    "plt.show()"
   ]
  },
  {
   "cell_type": "markdown",
   "metadata": {},
   "source": [
    "<span style=\"color:red\">Good</span>"
   ]
  },
  {
   "cell_type": "markdown",
   "metadata": {},
   "source": [
    "### ========== Question 2.2 ==========\n",
    "What do you observe? \n",
    "\n",
    "How does that relate to the Naive Bayes assumption? \n",
    "\n",
    "What would be the main issue we would have to face if we didn't make this assumption?"
   ]
  },
  {
   "cell_type": "markdown",
   "metadata": {},
   "source": [
    "*Your answer goes here:*  \n",
    "1. The value of **different attributions** in the **same datapoint** is the **same** for most of the time. For example, most of the points in the figure appear in (1,1),(2,2)...Only a small part of which appears in (1,2) (2,1).\n",
    "2. The Naive Bayes classifier uses the **conditional independence assumption**. However, as can be seen from the figure, these two attributions are **not independent of each other**. So it may affect the performance of the classifier.\n",
    "3. If the attributes are not conditionally independent, then the sample space will be large, the reality that the training set is not large enough compared with the sample space, and the directly using the frequency to calculate P(x1,x2...xN|y) is very difficult, more importantly, usually the probability is zero and not being observed are not the same.\n",
    "\n"
   ]
  },
  {
   "cell_type": "markdown",
   "metadata": {},
   "source": [
    "<span style=\"color:red\">Good</span>"
   ]
  },
  {
   "cell_type": "markdown",
   "metadata": {},
   "source": [
    "### ========== Question 2.3 ==========\n",
    "Fit a Gaussian Naive Bayes model to the cleaned dataset A. Your input features should be all the attributes in the dataset except the `class` attribute which will be your target. Display the classification accuracy on the training dataset."
   ]
  },
  {
   "cell_type": "code",
   "execution_count": 13,
   "metadata": {
    "collapsed": false
   },
   "outputs": [
    {
     "name": "stdout",
     "output_type": "stream",
     "text": [
      "The classification accuracy = 0.889048302248\n"
     ]
    }
   ],
   "source": [
    "# Your code goes here\n",
    "from sklearn.naive_bayes import GaussianNB\n",
    "from sklearn.metrics import accuracy_score\n",
    "from sklearn.metrics import confusion_matrix\n",
    "features = news_A_clean.drop('class',axis= 1)\n",
    "targets = pd.Series(news_A_clean['class'])\n",
    "gnb = GaussianNB()\n",
    "fit = gnb.fit(features, targets.values)\n",
    "accuracy = fit.score(features, targets.values)\n",
    "print(\"The classification accuracy = %.12f\" % accuracy)"
   ]
  },
  {
   "cell_type": "markdown",
   "metadata": {},
   "source": [
    "<span style=\"color:red\">Good</span>"
   ]
  },
  {
   "cell_type": "markdown",
   "metadata": {},
   "source": [
    "### ========== Question 2.4 ==========\n",
    "Plot the (normalised) confusion matrix for the training data. Label axes appropriately."
   ]
  },
  {
   "cell_type": "code",
   "execution_count": 14,
   "metadata": {
    "collapsed": false
   },
   "outputs": [
    {
     "name": "stderr",
     "output_type": "stream",
     "text": [
      "/Users/Meteor/anaconda/envs/iaml/lib/python2.7/site-packages/sklearn/utils/validation.py:420: DataConversionWarning: Data with input dtype int64 was converted to float64 by the normalize function.\n",
      "  warnings.warn(msg, DataConversionWarning)\n"
     ]
    },
    {
     "data": {
      "image/png": "[encoded data removed]",
      "text/plain": [
       "<matplotlib.figure.Figure at 0x1151ce610>"
      ]
     },
     "metadata": {},
     "output_type": "display_data"
    }
   ],
   "source": [
    "# Your code goes here\n",
    "from sklearn.preprocessing import normalize\n",
    "features_pre = fit.predict(features)\n",
    "cm = confusion_matrix(targets, features_pre)\n",
    "cm_norm = normalize(cm, norm = 'l1')\n",
    "def plot_confusion_matrix(cm, classes=None, title='Confusion matrix'):\n",
    "    \"\"\"Plots a confusion matrix.\"\"\"\n",
    "    if classes is not None:\n",
    "        sns.heatmap(cm, xticklabels=classes, yticklabels=classes, vmin=0., vmax=1., annot=True)\n",
    "    else:\n",
    "        sns.heatmap(cm, vmin=0., vmax=1.)\n",
    "    plt.title(title)\n",
    "    plt.ylabel('True label')\n",
    "    plt.xlabel('Predicted label')\n",
    "classes = [1,2,3,4,5]\n",
    "plot_confusion_matrix(cm_norm, classes = classes)"
   ]
  },
  {
   "cell_type": "markdown",
   "metadata": {},
   "source": [
    "<span style=\"color:red\">Good</span>"
   ]
  },
  {
   "cell_type": "markdown",
   "metadata": {},
   "source": [
    "### ========== Question 2.5  ==========\n",
    "\n",
    "Comment on the confusion matrix from the previous question. Does it look like what you would have expected? Explain."
   ]
  },
  {
   "cell_type": "markdown",
   "metadata": {},
   "source": [
    "*Your answer goes here*  \n",
    "It look like what I would have expected. Because the classifaction accuracy is 0.889048302248, most of the classification is correct. But the  classification of *class 2* there are some deviations."
   ]
  },
  {
   "cell_type": "markdown",
   "metadata": {},
   "source": [
    "<span style=\"color:red\">Classes comp.sys.ibm.pc.hardware and comp.sys.mac.hardware are confused with each other. Similarly, there is confusion between classes rec.sport.hockey and rec.sport.football</span>"
   ]
  },
  {
   "cell_type": "markdown",
   "metadata": {},
   "source": [
    "### ========== Question 2.6 ==========\n",
    "Fit a Gaussian Naive Bayes model to the original dataset A (including the outliers). Display the classification accuracy on the training dataset."
   ]
  },
  {
   "cell_type": "code",
   "execution_count": 15,
   "metadata": {
    "collapsed": false
   },
   "outputs": [
    {
     "name": "stdout",
     "output_type": "stream",
     "text": [
      "The classification accuracy on the unclean training dataset = 0.205260685768\n"
     ]
    }
   ],
   "source": [
    "# Your code goes here\n",
    "unclean_features = train_20news_partA.drop('class',axis= 1)\n",
    "unclean_targets = pd.Series(train_20news_partA['class'])\n",
    "gnb = GaussianNB()\n",
    "unclean_fit = gnb.fit(unclean_features, unclean_targets.values)\n",
    "unclean_accuracy = unclean_fit.score(unclean_features, unclean_targets.values)\n",
    "print(\"The classification accuracy on the unclean training dataset = %.12f\" % unclean_accuracy)"
   ]
  },
  {
   "cell_type": "markdown",
   "metadata": {},
   "source": [
    "<span style=\"color:red\">Good</span>"
   ]
  },
  {
   "cell_type": "markdown",
   "metadata": {},
   "source": [
    "### ========== Question 2.7 ==========\n",
    "Comment on the above results (Questions 2.3 & 2.6). In particular explain why you think that cleaning the data helps in this case."
   ]
  },
  {
   "cell_type": "markdown",
   "metadata": {},
   "source": [
    "*Your answer goes here*  \n",
    "Based on the performance of the classifier's training on a dataset that is not cleaned, outliers have a large effect on the performance of the classifier, since the values of the outliers are **100 times** the values of normal datapoints. And there is no other value (*eg 20,30,50*) between the value of outliers and the normal value in datapoints. So outliers make the performance of the classifier declining very quickly.\n"
   ]
  },
  {
   "cell_type": "markdown",
   "metadata": {},
   "source": [
    "<span style=\"color:red\">Naive Bayes is fitting gaussian distribution over discrete data, and gets most effected by the outliers.</span>"
   ]
  },
  {
   "cell_type": "markdown",
   "metadata": {},
   "source": [
    "### ========== Question 2.8 ==========\n",
    "\n",
    "Now we want to evaluate the generalisation of the classifier on new (i.e. unseen data). Use the classifier you trained in Question 2.5 (i.e. on the cleaned dataset) and test its performance on dataset `train_20news_partB`. \n",
    "\n",
    "Display the (normalized) confusion matrix and the classification accuracy on the Dataset B."
   ]
  },
  {
   "cell_type": "code",
   "execution_count": 16,
   "metadata": {
    "collapsed": false
   },
   "outputs": [
    {
     "name": "stdout",
     "output_type": "stream",
     "text": [
      "The classification accuracy on the test dataset = 0.835937500000\n"
     ]
    },
    {
     "name": "stderr",
     "output_type": "stream",
     "text": [
      "/Users/Meteor/anaconda/envs/iaml/lib/python2.7/site-packages/sklearn/utils/validation.py:420: DataConversionWarning: Data with input dtype int64 was converted to float64 by the normalize function.\n",
      "  warnings.warn(msg, DataConversionWarning)\n"
     ]
    },
    {
     "data": {
      "image/png": "[encoded data removed]",
      "text/plain": [
       "<matplotlib.figure.Figure at 0x11812ef90>"
      ]
     },
     "metadata": {},
     "output_type": "display_data"
    }
   ],
   "source": [
    "# Your code goes here\n",
    "features_test = train_20news_partB.drop('class',axis= 1)\n",
    "targets_test = pd.Series(train_20news_partB['class'])\n",
    "features_test_pre = fit.predict(features_test)\n",
    "cm_testb = confusion_matrix(targets_test, features_test_pre)\n",
    "cm_norm_testb = normalize(cm_testb, norm = 'l1')\n",
    "classes = [1,2,3,4,5]\n",
    "plot_confusion_matrix(cm_norm_testb,classes = classes)\n",
    "accuracy_testb = accuracy_score(targets_test, features_test_pre)\n",
    "print(\"The classification accuracy on the test dataset = %.12f\" % accuracy_testb)"
   ]
  },
  {
   "cell_type": "markdown",
   "metadata": {},
   "source": [
    "<span style=\"color:red\">Good</span>"
   ]
  },
  {
   "cell_type": "markdown",
   "metadata": {},
   "source": [
    "### ========== Question 2.9 ==========\n",
    "\n",
    "Comment on the results from the previous question. Do you think this is an acceptable level of performance? Which are the easiest and most difficult classes to predict correctly? "
   ]
  },
  {
   "cell_type": "markdown",
   "metadata": {},
   "source": [
    "*Your answer goes here*  \n",
    "1. I think this is an acceptable level of performance.\n",
    "2. The **class 1** is the **easiest** class to predict correctly. \n",
    "The **class 2** is the **most difficult** class to predict correctly."
   ]
  },
  {
   "cell_type": "markdown",
   "metadata": {},
   "source": [
    "<span style=\"color:red\">Good</span>"
   ]
  },
  {
   "cell_type": "markdown",
   "metadata": {},
   "source": [
    "### ========== Question 2.10 ==========\n",
    "What is a reasonable baseline against which to compare the classiffication performance? *Hint: What is the simplest classiffier you can think of and what would its performance be on this dataset?* "
   ]
  },
  {
   "cell_type": "markdown",
   "metadata": {},
   "source": [
    "*Your answer goes here*  \n",
    "I think **most frequent classifier** could be a reasonable baseline. "
   ]
  },
  {
   "cell_type": "markdown",
   "metadata": {},
   "source": [
    "<span style=\"color:red\">Good</span>"
   ]
  },
  {
   "cell_type": "markdown",
   "metadata": {},
   "source": [
    "### ========== Question 2.11 ==========\n",
    "\n",
    "Estimate the baseline performance."
   ]
  },
  {
   "cell_type": "code",
   "execution_count": 17,
   "metadata": {
    "collapsed": false,
    "scrolled": true
   },
   "outputs": [
    {
     "name": "stdout",
     "output_type": "stream",
     "text": [
      "Class 4 is the most frequent class in the training dataset\n",
      "The baseline performance(most frequent classifier's accuracy) = 0.203125000000\n"
     ]
    }
   ],
   "source": [
    "# Your code goes here\n",
    "def mostfrequent(targets,class_num):\n",
    "    count = np.zeros((1,class_num))\n",
    "    for t in targets:\n",
    "        for n in range(class_num - 1):\n",
    "            if t == n + 1:\n",
    "                count[0][n] += 1\n",
    "    max = np.max(count)\n",
    "    for c in range(class_num - 1):\n",
    "        if count[0][c] == max:\n",
    "            return (c + 1)\n",
    "    \n",
    "mf = mostfrequent(targets, 5)\n",
    "print(\"Class %d is the most frequent class in the training dataset\" % mf)\n",
    "def mfpredict(mf,targets):\n",
    "    return [mf for t in targets]\n",
    "pre_test = mfpredict(mf,targets_test)\n",
    "accuracy_baseline = accuracy_score(targets_test, pre_test)\n",
    "print(\"The baseline performance(most frequent classifier's accuracy) = %.12f\" % accuracy_baseline)"
   ]
  },
  {
   "cell_type": "markdown",
   "metadata": {},
   "source": [
    "<span style=\"color:red\">Good</span>"
   ]
  },
  {
   "cell_type": "markdown",
   "metadata": {},
   "source": [
    "### ========== Question 2.12 ==========\n",
    "\n",
    "Execute the cell below to get the prediction on the test dataset by using a different classifier which we will be introducing in this class later on. By using this prediction provided below (`rf_prediction`) plot the confusion matrix and display the classification accuracy on the test dataset. *Important: Make sure the test dataset is loaded in a DataFrame called `news_B` otherwise execution will return an error. In that case replace the DataFrame name in the third line.*"
   ]
  },
  {
   "cell_type": "code",
   "execution_count": 18,
   "metadata": {
    "collapsed": false,
    "scrolled": true
   },
   "outputs": [
    {
     "name": "stdout",
     "output_type": "stream",
     "text": [
      "Classification accuracy on the test set by using a Random Forest: 0.8515625\n"
     ]
    },
    {
     "data": {
      "image/png": "[encoded data removed]",
      "text/plain": [
       "<matplotlib.figure.Figure at 0x11d2b2f50>"
      ]
     },
     "metadata": {},
     "output_type": "display_data"
    }
   ],
   "source": [
    "from sklearn.ensemble import RandomForestClassifier\n",
    "X_tr = news_A_clean.drop('class',axis= 1)\n",
    "y_tr = pd.Series(news_A_clean['class'])\n",
    "rf = RandomForestClassifier(n_estimators = 50).fit(X=X_tr, y=y_tr)\n",
    "X_ts = train_20news_partB.drop('class', axis=1)\n",
    "y_ts = train_20news_partB['class']\n",
    "rf_prediction = rf.predict(X=X_ts)\n",
    "# Your code goes here\n",
    "print('Classification accuracy on the test set by using a Random Forest:', accuracy_score(y_ts, rf.predict(X=X_ts)))\n",
    "plt.figure()\n",
    "cm = confusion_matrix(y_ts, rf_prediction)\n",
    "cm_norm = cm/cm.sum(axis=1)[:, np.newaxis]\n",
    "classes = [1,2,3,4,5]\n",
    "plot_confusion_matrix(cm_norm, classes = classes)"
   ]
  },
  {
   "cell_type": "markdown",
   "metadata": {},
   "source": [
    "<span style=\"color:red\">Good</span>"
   ]
  },
  {
   "cell_type": "markdown",
   "metadata": {},
   "source": [
    "### ========== Question 2.13 ==========\n",
    "\n",
    "Which classifier (Naive Bayes or Random Forest) would you trust if you had to choose? What are the reasons you believe the Gaussian Naive Bayes classifier does not perofm so well in this particular problem? You are not expected to justify the performance level achieved by the Random Forest classifier."
   ]
  },
  {
   "cell_type": "markdown",
   "metadata": {},
   "source": [
    "*Your answer goes here.*  \n",
    "1. I trust **Random Forest**.\n",
    "2. Because in this particular problem, **some attributions are not conditionally independent**, that is to say some attributions are dependent, but the **Gaussian Naive Bayes classifier is based on the conditional independence assumption**, so the results and performance may be biased."
   ]
  },
  {
   "cell_type": "markdown",
   "metadata": {},
   "source": [
    "<span style=\"color:red\">Another problem with NB is that it gets affected by outliers, but RF doesn't.</span>"
   ]
  },
  {
   "cell_type": "code",
   "execution_count": null,
   "metadata": {
    "collapsed": true
   },
   "outputs": [],
   "source": []
  }
 ],
 "metadata": {
  "anaconda-cloud": {},
  "kernelspec": {
   "display_name": "Python [default]",
   "language": "python",
   "name": "python2"
  },
  "language_info": {
   "codemirror_mode": {
    "name": "ipython",
    "version": 2
   },
   "file_extension": ".py",
   "mimetype": "text/x-python",
   "name": "python",
   "nbconvert_exporter": "python",
   "pygments_lexer": "ipython2",
   "version": "2.7.12"
  }
 },
 "nbformat": 4,
 "nbformat_minor": 0
}
